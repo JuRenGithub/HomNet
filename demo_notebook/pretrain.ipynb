{
 "cells": [
  {
   "cell_type": "code",
   "execution_count": null,
   "metadata": {},
   "outputs": [],
   "source": [
    "import joblib\n",
    "import sys\n",
    "sys.path.append('../')\n",
    "from HomNet.HomNet import HomNet\n",
    "from HomNet.trainer import Trainer\n",
    "from dataset.get_pretrain_dataset import get_demo_pretrain_dataset\n",
    "import os"
   ]
  },
  {
   "cell_type": "code",
   "execution_count": null,
   "metadata": {},
   "outputs": [],
   "source": [
    "# config class\n",
    "# the same as argparse in pretrain.py\n",
    "\n",
    "class Config:\n",
    "    def __init__(self) -> None:\n",
    "        self.batch_size = 64\n",
    "        self.cell_num = 5\n",
    "        self.device = 'cuda:0'\n",
    "        self.drop_out = 0.5\n",
    "        self.early_stop = 5\n",
    "        self.emb_dim = 128\n",
    "        self.eval_train = 0\n",
    "        self.frozen = 0\n",
    "        self.ft = 0\n",
    "        self.log = 1\n",
    "        self.lr = 1e-3\n",
    "        self.l2 = 1e-3\n",
    "        self.max_iter = 1000\n",
    "        self.n_head = 4\n",
    "        self.n_layer = 2\n",
    "        self.name = 'HomNet'\n",
    "        self.seq_size = 8\n",
    "        self.show_iter = 10\n",
    "        self.warmup_iter = 50\n",
    "        self.with_band = 1\n",
    "        self.vec_dim = 64"
   ]
  },
  {
   "cell_type": "code",
   "execution_count": null,
   "metadata": {},
   "outputs": [],
   "source": [
    "def main(config, save_path):\n",
    "    model = HomNet(config)\n",
    "    print('load model ok')\n",
    "\n",
    "    # data_root = './dataset/pretrain_data'\n",
    "    # train_dataset, test_dataset = get_pretrain_dataset(data_root, config.with_band)\n",
    "    train_dataset, test_dataset = get_demo_pretrain_dataset()\n",
    "    valid_dataset = test_dataset\n",
    "    print('load dataset ok')\n",
    "\n",
    "    trainer = Trainer(train_dataset, valid_dataset, test_dataset, model, config, save_path)\n",
    "    train_loss, test_loss, _ = trainer.train()\n",
    "\n",
    "    if config.log == 1:\n",
    "        joblib.dump([train_loss, test_loss], os.path.join(save_path, 'loss.pkl'))"
   ]
  },
  {
   "cell_type": "code",
   "execution_count": null,
   "metadata": {},
   "outputs": [],
   "source": [
    "config = Config()\n",
    "save_path = './save_dir'  # change to your own save_path\n",
    "main(config, save_path)    "
   ]
  },
  {
   "cell_type": "code",
   "execution_count": null,
   "metadata": {},
   "outputs": [],
   "source": []
  },
  {
   "cell_type": "code",
   "execution_count": null,
   "metadata": {},
   "outputs": [],
   "source": []
  }
 ],
 "metadata": {
  "kernelspec": {
   "display_name": "py38",
   "language": "python",
   "name": "python3"
  },
  "language_info": {
   "codemirror_mode": {
    "name": "ipython",
    "version": 3
   },
   "file_extension": ".py",
   "mimetype": "text/x-python",
   "name": "python",
   "nbconvert_exporter": "python",
   "pygments_lexer": "ipython3",
   "version": "3.8.17"
  }
 },
 "nbformat": 4,
 "nbformat_minor": 2
}
