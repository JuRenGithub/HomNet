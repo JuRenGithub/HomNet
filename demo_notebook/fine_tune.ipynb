{
 "cells": [
  {
   "cell_type": "code",
   "execution_count": null,
   "metadata": {},
   "outputs": [],
   "source": [
    "import sys\n",
    "sys.path.append('../')\n",
    "from HomNet.HomNet import HomNet\n",
    "from HomNet.trainer import Trainer\n",
    "from dataset.get_real_dataset import get_demo_real_dataset\n"
   ]
  },
  {
   "cell_type": "code",
   "execution_count": null,
   "metadata": {},
   "outputs": [],
   "source": [
    "# config class\n",
    "# the same as argparse in pretrain.py\n",
    "\n",
    "class Config:\n",
    "    def __init__(self) -> None:\n",
    "        self.batch_size = 64\n",
    "        self.cell_num = 5\n",
    "        self.device = 'cuda:0'\n",
    "        self.drop_out = 0.5\n",
    "        self.early_stop = 5\n",
    "        self.emb_dim = 128\n",
    "        self.eval_train = 0\n",
    "        self.frozen = 1  # adjust according to n_layer\n",
    "        self.ft = 0\n",
    "        self.hos = 'demo test'\n",
    "        self.log = 1\n",
    "        self.lr = 1e-4\n",
    "        self.l2 = 1e-4\n",
    "        self.max_iter = 1000\n",
    "        self.n_head = 4\n",
    "        self.n_layer = 2\n",
    "        self.name = 'HomNet'\n",
    "        self.seq_size = 8\n",
    "        self.show_iter = 10\n",
    "        self.warmup_iter = 50\n",
    "        self.with_band = 1\n",
    "        self.vec_dim = 64"
   ]
  },
  {
   "cell_type": "code",
   "execution_count": null,
   "metadata": {},
   "outputs": [],
   "source": [
    "def main(config, save_path):\n",
    "    model = HomNet(config)\n",
    "    model_path = './save_dir/pretrain_model'\n",
    "    model.load_model(model_path)\n",
    "    print('load model ok')\n",
    "\n",
    "    # train_dataset, valid_dataset, test_dataset = get_real_dataset(config.hos, 0.2)\n",
    "    train_dataset, test_dataset = get_demo_real_dataset()\n",
    "    valid_dataset = test_dataset  # just for demo! test set should not be the same as valid set in real dataset!\n",
    "    print('load dataset ok', config.hos)\n",
    "\n",
    "    trainer = Trainer(train_dataset, valid_dataset, test_dataset, model, config, save_path)\n",
    "    train_loss, valid_loss, test_result = trainer.train()\n",
    "\n"
   ]
  },
  {
   "cell_type": "code",
   "execution_count": null,
   "metadata": {},
   "outputs": [],
   "source": [
    "config = Config()\n",
    "save_path = './save_dir'  # change to your own save_path\n",
    "main(config, save_path)    "
   ]
  },
  {
   "cell_type": "code",
   "execution_count": null,
   "metadata": {},
   "outputs": [],
   "source": []
  }
 ],
 "metadata": {
  "kernelspec": {
   "display_name": "py38",
   "language": "python",
   "name": "python3"
  },
  "language_info": {
   "codemirror_mode": {
    "name": "ipython",
    "version": 3
   },
   "file_extension": ".py",
   "mimetype": "text/x-python",
   "name": "python",
   "nbconvert_exporter": "python",
   "pygments_lexer": "ipython3",
   "version": "3.8.17"
  }
 },
 "nbformat": 4,
 "nbformat_minor": 2
}
